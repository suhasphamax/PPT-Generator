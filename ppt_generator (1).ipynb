{
 "cells": [
  {
   "cell_type": "code",
   "execution_count": 1,
   "id": "11a38c31-6737-42fe-8e45-89e87d3cf788",
   "metadata": {},
   "outputs": [
    {
     "name": "stdout",
     "output_type": "stream",
     "text": [
      "Requirement already satisfied: python-pptx in c:\\users\\suhas.g\\appdata\\local\\programs\\python\\python311\\lib\\site-packages (0.6.23)\n",
      "Requirement already satisfied: lxml>=3.1.0 in c:\\users\\suhas.g\\appdata\\local\\programs\\python\\python311\\lib\\site-packages (from python-pptx) (4.9.2)\n",
      "Requirement already satisfied: Pillow>=3.3.2 in c:\\users\\suhas.g\\appdata\\local\\programs\\python\\python311\\lib\\site-packages (from python-pptx) (10.1.0)\n",
      "Requirement already satisfied: XlsxWriter>=0.5.7 in c:\\users\\suhas.g\\appdata\\local\\programs\\python\\python311\\lib\\site-packages (from python-pptx) (3.2.0)\n"
     ]
    }
   ],
   "source": [
    "!pip install python-pptx"
   ]
  },
  {
   "cell_type": "code",
   "execution_count": 24,
   "id": "dbb4e87d-6a57-4154-843a-e0765ddc91fa",
   "metadata": {},
   "outputs": [],
   "source": [
    "from pptx import Presentation"
   ]
  },
  {
   "cell_type": "code",
   "execution_count": 103,
   "id": "4e4cdd6d-0a16-4201-b74b-5ad474d4738d",
   "metadata": {},
   "outputs": [],
   "source": [
    "master=Presentation(\"updated-master.pptx\")"
   ]
  },
  {
   "cell_type": "code",
   "execution_count": 104,
   "id": "3fba4c58-a265-4953-ae5d-8e5db8cb5095",
   "metadata": {},
   "outputs": [],
   "source": [
    "# get master layouts , get slide layouts functions\n",
    "\n"
   ]
  },
  {
   "cell_type": "code",
   "execution_count": 105,
   "id": "77960306-0c1a-45eb-82cb-b3d2edc25ff0",
   "metadata": {},
   "outputs": [],
   "source": [
    "def get_slide_placeholders(slide,a):\n",
    "    for shape in slide.placeholders:\n",
    "     print('%d %s' % (shape.placeholder_format.idx, shape.name))"
   ]
  },
  {
   "cell_type": "code",
   "execution_count": 106,
   "id": "0adb73d8-454a-4934-a7d5-8e22b71df73a",
   "metadata": {},
   "outputs": [],
   "source": [
    "def get_child_layouts(layout,a):\n",
    "    for i, slide_layout in enumerate(layout.slide_layouts):\n",
    "           print(f\"Layout {i}: {(slide_layout.name)}\")\n",
    "           get_slide_placeholders(slide_layout,a)"
   ]
  },
  {
   "cell_type": "code",
   "execution_count": 107,
   "id": "88c496d1-c172-4b85-9a4a-17fadd089304",
   "metadata": {},
   "outputs": [
    {
     "name": "stdout",
     "output_type": "stream",
     "text": [
      "New Master Layout\n",
      "Layout 0: <pptx.slide.SlideLayouts object at 0x0000029AF8F03BD0>\n",
      "Layout 0: 1_Titolo e contenuto\n",
      "Layout 1: Diapositiva titolo\n",
      "10 Text Placeholder 6\n",
      "Layout 2: 3_Layout personalizzato\n",
      "10 Text Placeholder 3\n",
      "Layout 3: 4_Layout personalizzato\n",
      "10 Text Placeholder 5\n",
      "Layout 4: 5_Layout personalizzato\n",
      "10 Text Placeholder 5\n",
      "Layout 5: 6_Layout personalizzato\n",
      "10 Text Placeholder 7\n",
      "Layout 6: 7_Layout personalizzato\n",
      "10 Text Placeholder 10\n",
      "Layout 7: Titolo e contenuto\n",
      "Layout 8: Layout personalizzato\n",
      "10 Text Placeholder 3\n",
      "New Master Layout\n",
      "Layout 1: <pptx.slide.SlideLayouts object at 0x0000029AF90E6A90>\n",
      "Layout 0: 1_Diapositiva titolo\n",
      "0 Segnaposto titolo 1\n",
      "4 Segnaposto numero diapositiva 5\n",
      "10 Text Placeholder 4\n",
      "Layout 1: 2_Diapositiva titolo\n",
      "0 Segnaposto titolo 1\n",
      "1 Segnaposto testo 2\n",
      "4 Segnaposto numero diapositiva 5\n",
      "Layout 2: 4_Diapositiva titolo\n",
      "0 Segnaposto titolo 1\n",
      "13 Segnaposto testo 2\n",
      "4 Segnaposto numero diapositiva 5\n",
      "Layout 3: 5_Diapositiva titolo\n",
      "0 Segnaposto titolo 1\n",
      "13 Segnaposto testo 2\n",
      "4 Segnaposto numero diapositiva 5\n",
      "Layout 4: 3_Diapositiva titolo\n",
      "0 Segnaposto titolo 1\n",
      "4 Segnaposto numero diapositiva 5\n",
      "Layout 5: 1_Titolo e contenuto\n",
      "0 Segnaposto titolo 1\n",
      "4 Segnaposto numero diapositiva 5\n",
      "Layout 6: Layout personalizzato\n",
      "4 Segnaposto numero diapositiva 5\n",
      "New Master Layout\n",
      "Layout 2: <pptx.slide.SlideLayouts object at 0x0000029AF8F06410>\n",
      "Layout 0: 1_Diapositiva titolo\n",
      "0 Segnaposto titolo 1\n",
      "1 Segnaposto testo 2\n",
      "4 Segnaposto numero diapositiva 5\n",
      "Layout 1: 2_Diapositiva titolo\n",
      "0 Segnaposto titolo 1\n",
      "1 Segnaposto testo 2\n",
      "4 Segnaposto numero diapositiva 5\n",
      "Layout 2: 3_Diapositiva titolo\n",
      "0 Segnaposto titolo 1\n",
      "4 Segnaposto numero diapositiva 5\n",
      "Layout 3: Titolo e contenuto\n",
      "0 Segnaposto titolo 1\n",
      "1 Segnaposto testo 2\n",
      "4 Segnaposto numero diapositiva 5\n",
      "Layout 4: 1_Titolo e contenuto\n",
      "0 Segnaposto titolo 1\n",
      "4 Segnaposto numero diapositiva 5\n",
      "Layout 5: Layout personalizzato\n",
      "4 Segnaposto numero diapositiva 5\n",
      "New Master Layout\n",
      "Layout 3: <pptx.slide.SlideLayouts object at 0x0000029AF8F07890>\n",
      "Layout 0: 1_Diapositiva titolo\n",
      "4 Segnaposto numero diapositiva 5\n",
      "New Master Layout\n",
      "Layout 4: <pptx.slide.SlideLayouts object at 0x0000029AF8F07A90>\n",
      "Layout 0: 1_Diapositiva titolo\n",
      "0 Segnaposto titolo 1\n",
      "1 Segnaposto testo 2\n",
      "4 Segnaposto numero diapositiva 5\n",
      "Layout 1: 2_Diapositiva titolo\n",
      "0 Segnaposto titolo 1\n",
      "1 Segnaposto testo 2\n",
      "4 Segnaposto numero diapositiva 5\n",
      "Layout 2: 3_Diapositiva titolo\n",
      "0 Segnaposto titolo 1\n",
      "4 Segnaposto numero diapositiva 5\n",
      "Layout 3: Titolo e contenuto\n",
      "0 Segnaposto titolo 1\n",
      "1 Segnaposto testo 2\n",
      "4 Segnaposto numero diapositiva 5\n",
      "Layout 4: 1_Titolo e contenuto\n",
      "0 Segnaposto titolo 1\n",
      "4 Segnaposto numero diapositiva 5\n",
      "Layout 5: Layout personalizzato\n",
      "4 Segnaposto numero diapositiva 5\n",
      "New Master Layout\n",
      "Layout 5: <pptx.slide.SlideLayouts object at 0x0000029AF8F06350>\n",
      "Layout 0: Layout personalizzato\n",
      "0 Titolo 1\n",
      "New Master Layout\n",
      "Layout 6: <pptx.slide.SlideLayouts object at 0x0000029AF8F07550>\n",
      "Layout 0: Layout personalizzato\n",
      "0 Titolo 1\n",
      "4 Segnaposto numero diapositiva 5\n",
      "New Master Layout\n",
      "Layout 7: <pptx.slide.SlideLayouts object at 0x0000029AF8F07390>\n",
      "Layout 0: 1_Diapositiva titolo\n",
      "0 Segnaposto titolo 1\n",
      "1 Segnaposto testo 2\n",
      "4 Segnaposto numero diapositiva 5\n",
      "Layout 1: 2_Diapositiva titolo\n",
      "0 Segnaposto titolo 1\n",
      "1 Segnaposto testo 2\n",
      "4 Segnaposto numero diapositiva 5\n",
      "Layout 2: 3_Diapositiva titolo\n",
      "0 Segnaposto titolo 1\n",
      "4 Segnaposto numero diapositiva 5\n",
      "Layout 3: Titolo e contenuto\n",
      "0 Segnaposto titolo 1\n",
      "1 Segnaposto testo 2\n",
      "4 Segnaposto numero diapositiva 5\n",
      "Layout 4: 1_Titolo e contenuto\n",
      "0 Segnaposto titolo 1\n",
      "4 Segnaposto numero diapositiva 5\n",
      "New Master Layout\n",
      "Layout 8: <pptx.slide.SlideLayouts object at 0x0000029AF8F07950>\n",
      "Layout 0: 1_Diapositiva titolo\n",
      "0 Segnaposto titolo 1\n",
      "1 Segnaposto testo 2\n",
      "4 Segnaposto numero diapositiva 5\n",
      "Layout 1: 2_Diapositiva titolo\n",
      "0 Segnaposto titolo 1\n",
      "1 Segnaposto testo 2\n",
      "4 Segnaposto numero diapositiva 5\n",
      "Layout 2: 3_Diapositiva titolo\n",
      "0 Segnaposto titolo 1\n",
      "4 Segnaposto numero diapositiva 5\n",
      "New Master Layout\n",
      "Layout 9: <pptx.slide.SlideLayouts object at 0x0000029AF8F07510>\n",
      "Layout 0: Diapositiva titolo\n",
      "0 Segnaposto titolo 4\n",
      "4 Segnaposto numero diapositiva 5\n"
     ]
    }
   ],
   "source": [
    "a={}\n",
    "def get_master_layout(master):\n",
    "    for i, layout in enumerate(master.slide_masters):\n",
    "      print(\"New Master Layout\")\n",
    "      print(f\"Layout {i}: {(layout.slide_layouts)}\")\n",
    "      get_child_layouts(layout,a)\n",
    "\n",
    "get_master_layout(master)\n",
    "    "
   ]
  },
  {
   "cell_type": "code",
   "execution_count": 108,
   "id": "23379ef5-5b10-4a79-9d1a-8e377700d127",
   "metadata": {},
   "outputs": [],
   "source": [
    "# get all the names of the slide_layout names in the translated version or get a map of it.\n",
    "\n",
    "# store the id's of the layout in key-value pair\n",
    "# slide_layout={\n",
    "# \"type\":\"index\",\n",
    "# \"type\":\"index\"\n",
    "# }\n",
    "# Getting name of the slide is not happening need to give it manually"
   ]
  },
  {
   "cell_type": "code",
   "execution_count": 109,
   "id": "f1f4650a-70a3-4b94-b229-4cca5cc192f3",
   "metadata": {},
   "outputs": [
    {
     "data": {
      "text/plain": [
       "'\\nJson Structure for the PPT\\nppt_structure=\\n[\\n{\\nslide_layout_1:\\n{\\n}\\n\\n}\\n\\n]\\n\\n'"
      ]
     },
     "execution_count": 109,
     "metadata": {},
     "output_type": "execute_result"
    }
   ],
   "source": [
    "'''\n",
    "Json Structure for the PPT\n",
    "ppt_structure=\n",
    "[\n",
    "{\n",
    "slide_layout_1:\n",
    "{\n",
    "}\n",
    "\n",
    "}\n",
    "\n",
    "]\n",
    "\n",
    "'''"
   ]
  },
  {
   "cell_type": "code",
   "execution_count": 110,
   "id": "5ac52639-ee2f-43a3-9801-6a7a66f41756",
   "metadata": {},
   "outputs": [
    {
     "name": "stdout",
     "output_type": "stream",
     "text": [
      "New Master Layout\n",
      "Layout 0: <pptx.slide.SlideMaster object at 0x0000029AF9026210>\n",
      "New Master Layout\n",
      "Layout 1: <pptx.slide.SlideMaster object at 0x0000029AF8E75CD0>\n",
      "New Master Layout\n",
      "Layout 2: <pptx.slide.SlideMaster object at 0x0000029AF8FA0B10>\n",
      "New Master Layout\n",
      "Layout 3: <pptx.slide.SlideMaster object at 0x0000029AF8F070D0>\n",
      "New Master Layout\n",
      "Layout 4: <pptx.slide.SlideMaster object at 0x0000029AF8F04210>\n",
      "New Master Layout\n",
      "Layout 5: <pptx.slide.SlideMaster object at 0x0000029AF8E7AF10>\n",
      "New Master Layout\n",
      "Layout 6: <pptx.slide.SlideMaster object at 0x0000029AF8F06850>\n",
      "New Master Layout\n",
      "Layout 7: <pptx.slide.SlideMaster object at 0x0000029AF8F06C10>\n",
      "New Master Layout\n",
      "Layout 8: <pptx.slide.SlideMaster object at 0x0000029AF8F07A50>\n",
      "New Master Layout\n",
      "Layout 9: <pptx.slide.SlideMaster object at 0x0000029AF8F06090>\n"
     ]
    }
   ],
   "source": [
    "def get_master_layout(master):\n",
    "    for i, layout in enumerate(master.slide_masters):\n",
    "      print(\"New Master Layout\")\n",
    "      print(f\"Layout {i}: {(layout)}\")\n",
    "\n",
    "get_master_layout(master)"
   ]
  },
  {
   "cell_type": "code",
   "execution_count": 111,
   "id": "a850c317-8838-446b-900e-0217bbd25858",
   "metadata": {},
   "outputs": [
    {
     "name": "stdout",
     "output_type": "stream",
     "text": [
      "<p:sldMasterIdLst xmlns:p=\"http://schemas.openxmlformats.org/presentationml/2006/main\" xmlns:a=\"http://schemas.openxmlformats.org/drawingml/2006/main\" xmlns:r=\"http://schemas.openxmlformats.org/officeDocument/2006/relationships\">\n",
      "  <p:sldMasterId id=\"2147483648\" r:id=\"rId6\"/>\n",
      "  <p:sldMasterId id=\"2147483675\" r:id=\"rId7\"/>\n",
      "  <p:sldMasterId id=\"2147483723\" r:id=\"rId8\"/>\n",
      "  <p:sldMasterId id=\"2147483763\" r:id=\"rId9\"/>\n",
      "  <p:sldMasterId id=\"2147483730\" r:id=\"rId10\"/>\n",
      "  <p:sldMasterId id=\"2147483759\" r:id=\"rId11\"/>\n",
      "  <p:sldMasterId id=\"2147483765\" r:id=\"rId12\"/>\n",
      "  <p:sldMasterId id=\"2147483737\" r:id=\"rId13\"/>\n",
      "  <p:sldMasterId id=\"2147483749\" r:id=\"rId14\"/>\n",
      "  <p:sldMasterId id=\"2147483660\" r:id=\"rId15\"/>\n",
      "</p:sldMasterIdLst>\n",
      "\n"
     ]
    }
   ],
   "source": [
    "print(master.slide_masters.element.xml)"
   ]
  },
  {
   "cell_type": "code",
   "execution_count": 112,
   "id": "8fabc2b7-829e-4708-a1ff-d23245e1de3f",
   "metadata": {},
   "outputs": [
    {
     "data": {
      "text/plain": [
       "{'layouts': [{'layout_id': 1,\n",
       "   'slides': [{'slide_name': 'slide_1',\n",
       "     'placeholders': {'placeholder_type_1': 'index_1',\n",
       "      'placeholder_type_2': 'index_2'}},\n",
       "    {'slide_name': 'slide_2',\n",
       "     'placeholders': {'placeholder_type_1': 'index_1',\n",
       "      'placeholder_type_2': 'index_2'}}]},\n",
       "  {'layout_id': 2,\n",
       "   'slides': [{'slide_name': 'slide_1',\n",
       "     'placeholders': {'placeholder_type_1': 'index_1',\n",
       "      'placeholder_type_2': 'index_2'}},\n",
       "    {'slide_name': 'slide_2',\n",
       "     'placeholders': {'placeholder_type_1': 'index_1',\n",
       "      'placeholder_type_2': 'index_2'}}]}]}"
      ]
     },
     "execution_count": 112,
     "metadata": {},
     "output_type": "execute_result"
    }
   ],
   "source": [
    "{\n",
    "  \"layouts\": [\n",
    "    {\n",
    "      \"layout_id\": 1,\n",
    "      \"slides\": [\n",
    "        {\n",
    "          \"slide_name\": \"slide_1\",\n",
    "          \"placeholders\": {\n",
    "            \"placeholder_type_1\": \"index_1\",\n",
    "            \"placeholder_type_2\": \"index_2\"\n",
    "          }\n",
    "        },\n",
    "        {\n",
    "          \"slide_name\": \"slide_2\",\n",
    "          \"placeholders\": {\n",
    "            \"placeholder_type_1\": \"index_1\",\n",
    "            \"placeholder_type_2\": \"index_2\"\n",
    "          }\n",
    "        }\n",
    "      ]\n",
    "    },\n",
    "    {\n",
    "      \"layout_id\": 2,\n",
    "      \"slides\": [\n",
    "        {\n",
    "          \"slide_name\": \"slide_1\",\n",
    "          \"placeholders\": {\n",
    "            \"placeholder_type_1\": \"index_1\",\n",
    "            \"placeholder_type_2\": \"index_2\"\n",
    "          }\n",
    "        },\n",
    "        {\n",
    "          \"slide_name\": \"slide_2\",\n",
    "          \"placeholders\": {\n",
    "            \"placeholder_type_1\": \"index_1\",\n",
    "            \"placeholder_type_2\": \"index_2\"\n",
    "          }\n",
    "        }\n",
    "      ]\n",
    "    }\n",
    "  ]\n",
    "}\n"
   ]
  },
  {
   "cell_type": "code",
   "execution_count": 113,
   "id": "76a65026-d513-4be1-bdde-3d0aabaa58a8",
   "metadata": {},
   "outputs": [],
   "source": [
    "# Inside a layout slides can be picked up randomly\n",
    "a=[]"
   ]
  },
  {
   "cell_type": "code",
   "execution_count": 114,
   "id": "e708214a-295f-4438-92f6-c820339300b1",
   "metadata": {},
   "outputs": [],
   "source": [
    "def get_slide_placeholders(slide):\n",
    "    placeholders={   \n",
    "    }\n",
    "    for shape in slide.placeholders:\n",
    "        placeholders[shape.name]=shape.placeholder_format.idx\n",
    "     \n",
    "        # print('%d %s' % (shape.placeholder_format.idx, shape.name))\n",
    "    return placeholders"
   ]
  },
  {
   "cell_type": "code",
   "execution_count": 115,
   "id": "a7498820-fc36-43dc-ae59-285b84dc5c07",
   "metadata": {},
   "outputs": [],
   "source": [
    "def get_child_layouts(layout):\n",
    "    new_layout={}\n",
    "    slides=[]\n",
    "    for i, slide_layout in enumerate(layout.slide_layouts):\n",
    "           # print(f\"Layout {i}: {(slide_layout.name)}\")\n",
    "           # placeholders=\n",
    "           \n",
    "           c=get_slide_placeholders(slide_layout)\n",
    "           slides.append({\"id\":i,\"slide_obj\":slide_layout,\"placeholders\":c})\n",
    "           # print(c)\n",
    "    # new_layout[\"slides\"]=slides\n",
    "    return slides"
   ]
  },
  {
   "cell_type": "code",
   "execution_count": 116,
   "id": "0d07865a-d677-400e-87bc-4b2c00237743",
   "metadata": {},
   "outputs": [
    {
     "name": "stdout",
     "output_type": "stream",
     "text": [
      "New Master Layout\n",
      "New Master Layout\n",
      "New Master Layout\n",
      "New Master Layout\n",
      "New Master Layout\n",
      "New Master Layout\n",
      "New Master Layout\n",
      "New Master Layout\n",
      "New Master Layout\n",
      "New Master Layout\n",
      "[{'layout_id': 0, 'slides': [{'id': 0, 'slide_obj': <pptx.slide.SlideLayout object at 0x0000029AF8E8CFD0>, 'placeholders': {}}, {'id': 1, 'slide_obj': <pptx.slide.SlideLayout object at 0x0000029AF7D414D0>, 'placeholders': {'Text Placeholder 6': 10}}, {'id': 2, 'slide_obj': <pptx.slide.SlideLayout object at 0x0000029AF8F835D0>, 'placeholders': {'Text Placeholder 3': 10}}, {'id': 3, 'slide_obj': <pptx.slide.SlideLayout object at 0x0000029AF8E77550>, 'placeholders': {'Text Placeholder 5': 10}}, {'id': 4, 'slide_obj': <pptx.slide.SlideLayout object at 0x0000029AF8E77850>, 'placeholders': {'Text Placeholder 5': 10}}, {'id': 5, 'slide_obj': <pptx.slide.SlideLayout object at 0x0000029AF8E77C50>, 'placeholders': {'Text Placeholder 7': 10}}, {'id': 6, 'slide_obj': <pptx.slide.SlideLayout object at 0x0000029AF8E740D0>, 'placeholders': {'Text Placeholder 10': 10}}, {'id': 7, 'slide_obj': <pptx.slide.SlideLayout object at 0x0000029AF8E74990>, 'placeholders': {}}, {'id': 8, 'slide_obj': <pptx.slide.SlideLayout object at 0x0000029AF9026A10>, 'placeholders': {'Text Placeholder 3': 10}}]}, {'layout_id': 1, 'slides': [{'id': 0, 'slide_obj': <pptx.slide.SlideLayout object at 0x0000029AF9026C50>, 'placeholders': {'Segnaposto titolo 1': 0, 'Segnaposto numero diapositiva 5': 4, 'Text Placeholder 4': 10}}, {'id': 1, 'slide_obj': <pptx.slide.SlideLayout object at 0x0000029AF8F07AD0>, 'placeholders': {'Segnaposto titolo 1': 0, 'Segnaposto testo 2': 1, 'Segnaposto numero diapositiva 5': 4}}, {'id': 2, 'slide_obj': <pptx.slide.SlideLayout object at 0x0000029AF8F07590>, 'placeholders': {'Segnaposto titolo 1': 0, 'Segnaposto testo 2': 13, 'Segnaposto numero diapositiva 5': 4}}, {'id': 3, 'slide_obj': <pptx.slide.SlideLayout object at 0x0000029AF8F077D0>, 'placeholders': {'Segnaposto titolo 1': 0, 'Segnaposto testo 2': 13, 'Segnaposto numero diapositiva 5': 4}}, {'id': 4, 'slide_obj': <pptx.slide.SlideLayout object at 0x0000029AF8F06990>, 'placeholders': {'Segnaposto titolo 1': 0, 'Segnaposto numero diapositiva 5': 4}}, {'id': 5, 'slide_obj': <pptx.slide.SlideLayout object at 0x0000029AF8F06790>, 'placeholders': {'Segnaposto titolo 1': 0, 'Segnaposto numero diapositiva 5': 4}}, {'id': 6, 'slide_obj': <pptx.slide.SlideLayout object at 0x0000029AF8F04390>, 'placeholders': {'Segnaposto numero diapositiva 5': 4}}]}, {'layout_id': 2, 'slides': [{'id': 0, 'slide_obj': <pptx.slide.SlideLayout object at 0x0000029AF8F05AD0>, 'placeholders': {'Segnaposto titolo 1': 0, 'Segnaposto testo 2': 1, 'Segnaposto numero diapositiva 5': 4}}, {'id': 1, 'slide_obj': <pptx.slide.SlideLayout object at 0x0000029AF8F07710>, 'placeholders': {'Segnaposto titolo 1': 0, 'Segnaposto testo 2': 1, 'Segnaposto numero diapositiva 5': 4}}, {'id': 2, 'slide_obj': <pptx.slide.SlideLayout object at 0x0000029AF8F07350>, 'placeholders': {'Segnaposto titolo 1': 0, 'Segnaposto numero diapositiva 5': 4}}, {'id': 3, 'slide_obj': <pptx.slide.SlideLayout object at 0x0000029AF8F06D10>, 'placeholders': {'Segnaposto titolo 1': 0, 'Segnaposto testo 2': 1, 'Segnaposto numero diapositiva 5': 4}}, {'id': 4, 'slide_obj': <pptx.slide.SlideLayout object at 0x0000029AF8F076D0>, 'placeholders': {'Segnaposto titolo 1': 0, 'Segnaposto numero diapositiva 5': 4}}, {'id': 5, 'slide_obj': <pptx.slide.SlideLayout object at 0x0000029AF8F07B50>, 'placeholders': {'Segnaposto numero diapositiva 5': 4}}]}, {'layout_id': 3, 'slides': [{'id': 0, 'slide_obj': <pptx.slide.SlideLayout object at 0x0000029AF8F04690>, 'placeholders': {'Segnaposto numero diapositiva 5': 4}}]}, {'layout_id': 4, 'slides': [{'id': 0, 'slide_obj': <pptx.slide.SlideLayout object at 0x0000029AF8F07650>, 'placeholders': {'Segnaposto titolo 1': 0, 'Segnaposto testo 2': 1, 'Segnaposto numero diapositiva 5': 4}}, {'id': 1, 'slide_obj': <pptx.slide.SlideLayout object at 0x0000029AF8F06310>, 'placeholders': {'Segnaposto titolo 1': 0, 'Segnaposto testo 2': 1, 'Segnaposto numero diapositiva 5': 4}}, {'id': 2, 'slide_obj': <pptx.slide.SlideLayout object at 0x0000029AF8F06550>, 'placeholders': {'Segnaposto titolo 1': 0, 'Segnaposto numero diapositiva 5': 4}}, {'id': 3, 'slide_obj': <pptx.slide.SlideLayout object at 0x0000029AF8F04B50>, 'placeholders': {'Segnaposto titolo 1': 0, 'Segnaposto testo 2': 1, 'Segnaposto numero diapositiva 5': 4}}, {'id': 4, 'slide_obj': <pptx.slide.SlideLayout object at 0x0000029AF8F074D0>, 'placeholders': {'Segnaposto titolo 1': 0, 'Segnaposto numero diapositiva 5': 4}}, {'id': 5, 'slide_obj': <pptx.slide.SlideLayout object at 0x0000029AF8F04050>, 'placeholders': {'Segnaposto numero diapositiva 5': 4}}]}, {'layout_id': 5, 'slides': [{'id': 0, 'slide_obj': <pptx.slide.SlideLayout object at 0x0000029AF8F06F50>, 'placeholders': {'Titolo 1': 0}}]}, {'layout_id': 6, 'slides': [{'id': 0, 'slide_obj': <pptx.slide.SlideLayout object at 0x0000029AF8F07490>, 'placeholders': {'Titolo 1': 0, 'Segnaposto numero diapositiva 5': 4}}]}, {'layout_id': 7, 'slides': [{'id': 0, 'slide_obj': <pptx.slide.SlideLayout object at 0x0000029AF8F07D50>, 'placeholders': {'Segnaposto titolo 1': 0, 'Segnaposto testo 2': 1, 'Segnaposto numero diapositiva 5': 4}}, {'id': 1, 'slide_obj': <pptx.slide.SlideLayout object at 0x0000029AF8F067D0>, 'placeholders': {'Segnaposto titolo 1': 0, 'Segnaposto testo 2': 1, 'Segnaposto numero diapositiva 5': 4}}, {'id': 2, 'slide_obj': <pptx.slide.SlideLayout object at 0x0000029AF8F07610>, 'placeholders': {'Segnaposto titolo 1': 0, 'Segnaposto numero diapositiva 5': 4}}, {'id': 3, 'slide_obj': <pptx.slide.SlideLayout object at 0x0000029AF8F06D50>, 'placeholders': {'Segnaposto titolo 1': 0, 'Segnaposto testo 2': 1, 'Segnaposto numero diapositiva 5': 4}}, {'id': 4, 'slide_obj': <pptx.slide.SlideLayout object at 0x0000029AF8F07750>, 'placeholders': {'Segnaposto titolo 1': 0, 'Segnaposto numero diapositiva 5': 4}}]}, {'layout_id': 8, 'slides': [{'id': 0, 'slide_obj': <pptx.slide.SlideLayout object at 0x0000029AF8F04AD0>, 'placeholders': {'Segnaposto titolo 1': 0, 'Segnaposto testo 2': 1, 'Segnaposto numero diapositiva 5': 4}}, {'id': 1, 'slide_obj': <pptx.slide.SlideLayout object at 0x0000029AF8F07F10>, 'placeholders': {'Segnaposto titolo 1': 0, 'Segnaposto testo 2': 1, 'Segnaposto numero diapositiva 5': 4}}, {'id': 2, 'slide_obj': <pptx.slide.SlideLayout object at 0x0000029AF8F05F90>, 'placeholders': {'Segnaposto titolo 1': 0, 'Segnaposto numero diapositiva 5': 4}}]}, {'layout_id': 9, 'slides': [{'id': 0, 'slide_obj': <pptx.slide.SlideLayout object at 0x0000029AF8F09450>, 'placeholders': {'Segnaposto titolo 4': 0, 'Segnaposto numero diapositiva 5': 4}}]}]\n"
     ]
    }
   ],
   "source": [
    "def get_master_layout(master):\n",
    "    for i, layout in enumerate(master.slide_masters):\n",
    "      \n",
    "      print(\"New Master Layout\")\n",
    "      # print(f\"Layout {i}: {(layout.slide_layouts)}\")\n",
    "      b=get_child_layouts(layout)\n",
    "      slide_layout={\"layout_id\": i,\n",
    "                    \"slides\":b\n",
    "                   }\n",
    "        \n",
    "      # print(slide_layout)\n",
    "      a.append(slide_layout)\n",
    "\n",
    "get_master_layout(master)\n",
    "print(a)"
   ]
  },
  {
   "cell_type": "code",
   "execution_count": 117,
   "id": "565ba428-bc84-40b5-90c3-aa93efb7a78a",
   "metadata": {},
   "outputs": [],
   "source": [
    "#  Mapping for layout types"
   ]
  },
  {
   "cell_type": "code",
   "execution_count": 118,
   "id": "e04aad13-cb10-4e7d-8fb0-4a4c787c7cd8",
   "metadata": {},
   "outputs": [],
   "source": [
    "slide_layouts_type={\n",
    "    \"intro\":0,\n",
    "    \"content_1\":1,\n",
    "    \"content_2\":2,\n",
    "    \"content_3\":3,\n",
    "    \"content_4\":4,\n",
    "    \"content_5\":5,\n",
    "    \"content_6\":6,\n",
    "    \"content_7\":7,\n",
    "    \"content_8\":8,\n",
    "    \"content_9\":9\n",
    "}"
   ]
  },
  {
   "cell_type": "code",
   "execution_count": 119,
   "id": "fe0ab3d4-65e0-40af-af15-04265170f6c7",
   "metadata": {},
   "outputs": [],
   "source": [
    "#  Sample Gpt Content "
   ]
  },
  {
   "cell_type": "code",
   "execution_count": 120,
   "id": "c86118a9-c09b-473c-ba32-2c7bcebf6611",
   "metadata": {},
   "outputs": [],
   "source": [
    "#  slides={\n",
    "# \"intro\":\n",
    "# \"Agenda\":\n",
    "# \"Slide_content\":\n",
    "# \"Summary\":\n",
    "#  # }"
   ]
  },
  {
   "cell_type": "code",
   "execution_count": 121,
   "id": "07bef259-be27-4ef8-a042-b5685278b787",
   "metadata": {},
   "outputs": [
    {
     "data": {
      "text/plain": [
       "[{'layout_id': 0,\n",
       "  'slides': [{'id': 0,\n",
       "    'slide_obj': <pptx.slide.SlideLayout at 0x29af8e8cfd0>,\n",
       "    'placeholders': {}},\n",
       "   {'id': 1,\n",
       "    'slide_obj': <pptx.slide.SlideLayout at 0x29af7d414d0>,\n",
       "    'placeholders': {'Text Placeholder 6': 10}},\n",
       "   {'id': 2,\n",
       "    'slide_obj': <pptx.slide.SlideLayout at 0x29af8f835d0>,\n",
       "    'placeholders': {'Text Placeholder 3': 10}},\n",
       "   {'id': 3,\n",
       "    'slide_obj': <pptx.slide.SlideLayout at 0x29af8e77550>,\n",
       "    'placeholders': {'Text Placeholder 5': 10}},\n",
       "   {'id': 4,\n",
       "    'slide_obj': <pptx.slide.SlideLayout at 0x29af8e77850>,\n",
       "    'placeholders': {'Text Placeholder 5': 10}},\n",
       "   {'id': 5,\n",
       "    'slide_obj': <pptx.slide.SlideLayout at 0x29af8e77c50>,\n",
       "    'placeholders': {'Text Placeholder 7': 10}},\n",
       "   {'id': 6,\n",
       "    'slide_obj': <pptx.slide.SlideLayout at 0x29af8e740d0>,\n",
       "    'placeholders': {'Text Placeholder 10': 10}},\n",
       "   {'id': 7,\n",
       "    'slide_obj': <pptx.slide.SlideLayout at 0x29af8e74990>,\n",
       "    'placeholders': {}},\n",
       "   {'id': 8,\n",
       "    'slide_obj': <pptx.slide.SlideLayout at 0x29af9026a10>,\n",
       "    'placeholders': {'Text Placeholder 3': 10}}]}]"
      ]
     },
     "execution_count": 121,
     "metadata": {},
     "output_type": "execute_result"
    }
   ],
   "source": [
    "dummy=[]\n",
    "dummy.append(a[0])\n",
    "dummy"
   ]
  },
  {
   "cell_type": "code",
   "execution_count": 155,
   "id": "eb22b2bf-fdbc-47a1-ae34-56e977d83d34",
   "metadata": {},
   "outputs": [
    {
     "name": "stdout",
     "output_type": "stream",
     "text": [
      "Slide object with id : <pptx.slide.SlideLayout object at 0x0000029AF9026A10>\n"
     ]
    },
    {
     "data": {
      "text/plain": [
       "{'id': 8,\n",
       " 'slide_obj': <pptx.slide.SlideLayout at 0x29af9026a10>,\n",
       " 'placeholders': {'Text Placeholder 3': 10}}"
      ]
     },
     "execution_count": 155,
     "metadata": {},
     "output_type": "execute_result"
    }
   ],
   "source": [
    "# Extract the slide based on particular id\n",
    "def get_slide(layout_id,slide_id):\n",
    "    layout = next((item for item in a if item['layout_id'] == layout_id), None)\n",
    "    \n",
    "    if layout:\n",
    "    \n",
    "        slide = next((slide for slide in layout['slides'] if slide['id'] == slide_id), None)\n",
    "        if slide:\n",
    "            slide_obj = slide['slide_obj']\n",
    "            print(f\"Slide object with id : {slide_obj}\")\n",
    "        else:\n",
    "            print(\"Slide with id 6 not found\")\n",
    "    else:\n",
    "        print(\"Layout with layout_id 1 not found\")\n",
    "    return slide\n",
    "get_slide(0,8)"
   ]
  },
  {
   "cell_type": "code",
   "execution_count": 123,
   "id": "d8188fdc-151e-4989-91a9-db9488859eaf",
   "metadata": {},
   "outputs": [],
   "source": [
    "new_ppt=Presentation(\"updated-master.pptx\")"
   ]
  },
  {
   "cell_type": "code",
   "execution_count": 66,
   "id": "3fc3cfe4-62c5-484b-a33e-8af4e27d3637",
   "metadata": {},
   "outputs": [
    {
     "name": "stdout",
     "output_type": "stream",
     "text": [
      "Slide object with id : <pptx.slide.SlideLayout object at 0x0000029AF56C6C50>\n",
      "Slide object with id : <pptx.slide.SlideLayout object at 0x0000029AF56AC4D0>\n",
      "BODY (2)\n",
      "Slide object with id : <pptx.slide.SlideLayout object at 0x0000029AF56AC4D0>\n",
      "BODY (2)\n",
      "Slide object with id : <pptx.slide.SlideLayout object at 0x0000029AF56AC4D0>\n",
      "BODY (2)\n",
      "Slide object with id : <pptx.slide.SlideLayout object at 0x0000029AF56AC4D0>\n",
      "BODY (2)\n",
      "Slide object with id : <pptx.slide.SlideLayout object at 0x0000029AF56AC4D0>\n",
      "BODY (2)\n"
     ]
    }
   ],
   "source": [
    "slide_count=0\n",
    "with open(\"resp.txt\", 'r', encoding='utf-8') as f:\n",
    "            for line_num, line in enumerate(f):\n",
    "                if line.startswith('#Title:'):\n",
    "                    header = line.replace('#Title:', '').strip()\n",
    "                    ref_slide=get_slide(5,0)\n",
    "                    title_placeholder_index=ref_slide['placeholders']['Titolo 1']\n",
    "                    slide = new_ppt.slides.add_slide(ref_slide['slide_obj'])\n",
    "                    # Take a slide from a master slide and add it to the presentation.\n",
    "                    title = slide.placeholders[title_placeholder_index]\n",
    "                    title.text = header\n",
    "                \n",
    "\n",
    "                    # print(header)\n",
    "                #     title.text_frame.paragraphs[0].font.size = self.calculate_title_font_size(header)\n",
    "                #     file_title = header\n",
    "                #     body_shape = slide.shapes.placeholders[1]\n",
    "                #     continue\n",
    "                elif line.startswith('#Slide:'):\n",
    "                    if slide_count > 0:\n",
    "                        ref_slide=get_slide(1,0)\n",
    "                        title_placeholder_index=ref_slide['placeholders']['Segnaposto titolo 1']\n",
    "                        content_placeholder_index=ref_slide['placeholders']['Text Placeholder 4']\n",
    "                        slide = new_ppt.slides.add_slide(ref_slide['slide_obj'])\n",
    "\n",
    "                        title = slide.placeholders[title_placeholder_index]\n",
    "                        \n",
    "                        content=slide.placeholders[content_placeholder_index]\n",
    "                        print(content.placeholder_format.type)\n",
    "\n",
    "                        title.text = header\n",
    "                        content.text= \"This is the content\"\n",
    "                        \n",
    "                elif line.startswith('#Header:'):\n",
    "                    header = line.replace('#Header:', '').strip()\n",
    "                    continue\n",
    "                # elif line.startswith('#Content:'):\n",
    "                #     content = line.replace('#Content:', '').strip()\n",
    "                #     next_line = f.readline().strip()\n",
    "                #     while next_line and not next_line.startswith('#'):\n",
    "                #         if header == 'Table of Contents':\n",
    "                #             next_line = \" \".join(next_line.split('. ')[1:])\n",
    "                #         content += '\\n' + next_line\n",
    "                #         next_line = f.readline().strip()\n",
    "                #     continue\n",
    "\n",
    "                slide_count=slide_count+1\n",
    "                \n",
    "new_ppt.save(\"Rec_gen.pptx\")\n",
    "                #         if not header == 'Table of Contents':\n",
    "                #             if slide_layout_index == 1:\n",
    "                #                 body_shape = slide.shapes.placeholders[1]\n",
    "                #             else:\n",
    "                #                 try:\n",
    "                #                     body_shape = slide.shapes.placeholders[slide_placeholder_index]\n",
    "                #                 except:\n",
    "                #                     # print(header, slide_layout_index)\n",
    "                #                     # print(placeholder_ids)\n",
    "                #                     body_shape = slide.shapes.placeholders[placeholder_ids.get(slide_placeholder_index)]\n",
    "                #         else:\n",
    "                #             body_shape = slide.shapes.placeholders[slide_placeholder_index]\n",
    "\n",
    "                #         if slide_layout_index in [7, 8] and generate_images:\n",
    "                #             # Assuming 'slide' is your current slide object\n",
    "                #             # Specify the path to your image and position\n",
    "\n",
    "                #             # First, generate the text prompt\n",
    "                #             text_prompt = await self.create_image_prompt(content)\n",
    "                #             print(f\"Generated text prompt: {text_prompt}\")\n",
    "\n",
    "                #             # If a prompt was successfully generated, use it to create an image\n",
    "                #             if text_prompt:\n",
    "                #                 image_url = await self.create_image_from_prompt(text_prompt)\n",
    "                #                 response = requests.get(image_url)\n",
    "                #                 image_stream = io.BytesIO(response.content)\n",
    "                #                 left = top = Inches(1)  # You can adjust the position\n",
    "\n",
    "                #                 image_placeholder = slide.placeholders[placeholder_ids.get(2)]\n",
    "                #                 image = slide.shapes.add_picture(image_stream, image_placeholder.left,\n",
    "                #                                                  image_placeholder.top, width=image_placeholder.width,\n",
    "                #                                                  height=image_placeholder.height)\n",
    "\n",
    "                #         tf = body_shape.text_frame\n",
    "                #         tf.text = content\n",
    "\n",
    "                #     content = \"\"\n",
    "                #     slide_count += 1\n",
    "                #     slide_layout_index = last_slide_layout_index\n",
    "                #     if design_number == \"6\":\n",
    "                #         layout_indices = [1, 7]\n",
    "                #     else:\n",
    "                #         layout_indices = [1, 7, 8]\n",
    "                #     while slide_layout_index == last_slide_layout_index:\n",
    "                #         if firsttime:\n",
    "                #             slide_layout_index = 1\n",
    "                #             slide_placeholder_index = 1\n",
    "                #             firsttime = False\n",
    "                #             break\n",
    "                #         slide_layout_index = random.choice(layout_indices)  # Select random slide index\n",
    "                #         if slide_layout_index in [7, 8]:\n",
    "                #             slide_placeholder_index = 1\n",
    "                #         else:\n",
    "                #             slide_placeholder_index = 0\n",
    "                #     last_slide_layout_index = slide_layout_index\n",
    "                #     continue\n",
    "\n",
    "                # elif line.startswith('#Header:'):\n",
    "                #     header = line.replace('#Header:', '').strip()\n",
    "                #     continue\n",
    "\n",
    "                # elif line.startswith('#Content:'):\n",
    "                #     content = line.replace('#Content:', '').strip()\n",
    "                #     next_line = f.readline().strip()\n",
    "                #     while next_line and not next_line.startswith('#'):\n",
    "                #         if header == 'Table of Contents':\n",
    "                #             next_line = \" \".join(next_line.split('. ')[1:])\n",
    "                #         if slide_layout_index in [1, 7, 8]:\n",
    "                #             next_line = next_line.lstrip(\"- \")\n",
    "                #         content += '\\n' + next_line\n",
    "                #         next_line = f.readline().strip()\n",
    "                #     continue\n"
   ]
  },
  {
   "cell_type": "code",
   "execution_count": 64,
   "id": "2490463f-f565-4027-a7bc-824325c2fba3",
   "metadata": {},
   "outputs": [
    {
     "name": "stdout",
     "output_type": "stream",
     "text": [
      "#Title: Recordatti Presentation\n",
      "\n",
      "#Slide: 1\n",
      "\n",
      "#Header: table of contents\n",
      "\n",
      "#Content: 1. CONTENT OF THIS POWERPOINT\n",
      "\n",
      "2. CONTENTS OF THIS POWERPOINT\n",
      "\n",
      "3. CONTENT OF THIS POWERPOINT\n",
      "\n",
      "#Slide: 2\n",
      "\n",
      "#Header: Introduction\n",
      "\n",
      "#Content: CONTENT OF THE SLIDE\n",
      "\n",
      "This is the content of the intro slide.\n",
      "\n",
      "#Slide: 3\n",
      "\n",
      "#Header:  Main Content\n",
      "\n",
      "#Content: CONTENT OF THE SLIDE\n",
      "\n",
      "This is the content of the main slide.\n",
      "\n",
      "#Slide: 4\n",
      "\n",
      "#Headers: Summary\n",
      "\n",
      "#Content: CONTENT OF THE SUMMARY\n",
      "\n",
      "#Slide: END\"\"\"\n"
     ]
    }
   ],
   "source": [
    "with open(\"resp.txt\", 'r', encoding='utf-8') as f:\n",
    "            for line_num, line in enumerate(f):\n",
    "                print(line)"
   ]
  },
  {
   "cell_type": "code",
   "execution_count": 96,
   "id": "7696cf01-9dba-4fa9-9c25-360f27f762b4",
   "metadata": {},
   "outputs": [],
   "source": [
    "#  Parse slide contents and map it then use that loop through that map and select the content and "
   ]
  },
  {
   "cell_type": "code",
   "execution_count": null,
   "id": "dafeca05-5bda-47e7-8aad-e46164a15914",
   "metadata": {},
   "outputs": [],
   "source": []
  },
  {
   "cell_type": "code",
   "execution_count": 160,
   "id": "35b9ad42-234a-4c1e-ad26-f988d825dd16",
   "metadata": {},
   "outputs": [],
   "source": [
    "new_ppt=Presentation(\"updated-master.pptx\")"
   ]
  },
  {
   "cell_type": "code",
   "execution_count": 161,
   "id": "56a9d727-62dc-4770-9bae-2c65e318374d",
   "metadata": {},
   "outputs": [],
   "source": [
    "def parse_text_data(text):\n",
    "    slides = []\n",
    "    slide = {}\n",
    "    lines = text.strip().split('\\n')\n",
    "    \n",
    "    for line in lines:\n",
    "        if line.startswith(\"#Title:\"):\n",
    "            title = line.replace(\"#Title:\", \"\").strip()\n",
    "            slide['title'] = title\n",
    "        elif line.startswith(\"#Slide:\"):\n",
    "            if slide:\n",
    "                slides.append(slide)\n",
    "                slide = {}\n",
    "            slide_number = line.replace(\"#Slide:\", \"\").strip()\n",
    "            slide['slide_number'] = slide_number\n",
    "        elif line.startswith(\"#Header:\") or line.startswith(\"#Headers:\"):\n",
    "            header = line.replace(\"#Header:\", \"\").replace(\"#Headers:\", \"\").strip()\n",
    "            slide['header'] = header\n",
    "        elif line.startswith(\"#Content:\"):\n",
    "            content = line.replace(\"#Content:\", \"\").strip()\n",
    "            slide['content'] = content\n",
    "        else:\n",
    "            if 'content' in slide:\n",
    "                slide['content'] += '\\n' + line.strip()\n",
    "    \n",
    "    if slide:\n",
    "        slides.append(slide)\n",
    "    \n",
    "    return slides\n",
    "\n",
    "\n"
   ]
  },
  {
   "cell_type": "code",
   "execution_count": 162,
   "id": "3238b57a-0f2c-4618-bd07-4d0e3355bde5",
   "metadata": {},
   "outputs": [],
   "source": [
    "# Function to create PowerPoint presentation\n",
    "def create_presentation(slides, output_file):\n",
    "   \n",
    "    #  Title Slide\n",
    "    ref_slide=get_slide(5,0)\n",
    "    title_placeholder_index=ref_slide['placeholders']['Titolo 1']\n",
    "    slide = new_ppt.slides.add_slide(ref_slide['slide_obj'])\n",
    "    title = slide.placeholders[title_placeholder_index]\n",
    "    title.text = slides[0]['title']\n",
    "\n",
    "    \n",
    "\n",
    "    \n",
    "     \n",
    "    # Add other slides\n",
    "    for slide_data in slides[1:]:\n",
    "        ref_slide =get_slide(1,0)\n",
    "        print(ref_slide)\n",
    "        \n",
    "        slide = new_ppt.slides.add_slide(ref_slide['slide_obj'])\n",
    "        title_placeholder_index=ref_slide['placeholders']['Segnaposto titolo 1']\n",
    "        # content = slide.placeholders[1]\n",
    "        content_placeholder_index=ref_slide['placeholders']['Text Placeholder 4']\n",
    "        title = slide.placeholders[title_placeholder_index]\n",
    "                        \n",
    "        content=slide.placeholders[content_placeholder_index]\n",
    "        # slide_number=slide.placeholders[slide_number_placeholder_index]\n",
    "        title.text = slide_data['header']\n",
    "        content.text = slide_data['content']\n",
    "        # slide_number.text=slide_data['slide_number']\n",
    "    \n",
    "    # Save the presentation\n",
    "    new_ppt.save(output_file)\n",
    "\n",
    "    print(f\"PowerPoint presentation created successfully and saved as {output_file}.\")\n",
    "\n",
    "# Function to read the text file and generate the presentation"
   ]
  },
  {
   "cell_type": "code",
   "execution_count": 163,
   "id": "3f03fff6-a671-40a8-847a-5975855b42b8",
   "metadata": {},
   "outputs": [
    {
     "name": "stdout",
     "output_type": "stream",
     "text": [
      "[{'title': 'Recordatti Presentation'}, {'slide_number': '1', 'header': 'table of contents', 'content': '1. CONTENT OF THIS POWERPOINT\\n2. CONTENTS OF THIS POWERPOINT\\n3. CONTENT OF THIS POWERPOINT'}, {'slide_number': '2', 'header': 'Introduction', 'content': 'CONTENT OF THE SLIDE\\nThis is the content of the intro slide.'}, {'slide_number': '3', 'header': 'Main Content', 'content': 'CONTENT OF THE SLIDE\\nThis is the content of the main slide.'}, {'slide_number': '4', 'header': 'Summary', 'content': 'CONTENT OF THE SUMMARY'}]\n",
      "Slide object with id : <pptx.slide.SlideLayout object at 0x0000029AF8F06F50>\n",
      "Slide object with id : <pptx.slide.SlideLayout object at 0x0000029AF9026C50>\n",
      "{'id': 0, 'slide_obj': <pptx.slide.SlideLayout object at 0x0000029AF9026C50>, 'placeholders': {'Segnaposto titolo 1': 0, 'Segnaposto numero diapositiva 5': 4, 'Text Placeholder 4': 10}}\n",
      "Slide object with id : <pptx.slide.SlideLayout object at 0x0000029AF9026C50>\n",
      "{'id': 0, 'slide_obj': <pptx.slide.SlideLayout object at 0x0000029AF9026C50>, 'placeholders': {'Segnaposto titolo 1': 0, 'Segnaposto numero diapositiva 5': 4, 'Text Placeholder 4': 10}}\n",
      "Slide object with id : <pptx.slide.SlideLayout object at 0x0000029AF9026C50>\n",
      "{'id': 0, 'slide_obj': <pptx.slide.SlideLayout object at 0x0000029AF9026C50>, 'placeholders': {'Segnaposto titolo 1': 0, 'Segnaposto numero diapositiva 5': 4, 'Text Placeholder 4': 10}}\n",
      "Slide object with id : <pptx.slide.SlideLayout object at 0x0000029AF9026C50>\n",
      "{'id': 0, 'slide_obj': <pptx.slide.SlideLayout object at 0x0000029AF9026C50>, 'placeholders': {'Segnaposto titolo 1': 0, 'Segnaposto numero diapositiva 5': 4, 'Text Placeholder 4': 10}}\n",
      "PowerPoint presentation created successfully and saved as Rec_gen.pptx.\n"
     ]
    }
   ],
   "source": [
    "def generate_presentation_from_file(file_path, output_file):\n",
    "    with open(file_path, 'r') as file:\n",
    "        text_data = file.read()\n",
    "    \n",
    "    slides = parse_text_data(text_data)\n",
    "    print(slides)\n",
    "    create_presentation(slides, output_file)\n",
    "\n",
    "generate_presentation_from_file(\"resp.txt\", \"Rec_gen.pptx\")"
   ]
  },
  {
   "cell_type": "code",
   "execution_count": null,
   "id": "46e6cf5d-86d4-44e0-b78d-08ec4f1f0f57",
   "metadata": {},
   "outputs": [],
   "source": []
  },
  {
   "cell_type": "code",
   "execution_count": null,
   "id": "c24ea294-41e2-41bf-8d79-de7b501bcdc1",
   "metadata": {},
   "outputs": [],
   "source": []
  }
 ],
 "metadata": {
  "kernelspec": {
   "display_name": "Python 3 (ipykernel)",
   "language": "python",
   "name": "python3"
  },
  "language_info": {
   "codemirror_mode": {
    "name": "ipython",
    "version": 3
   },
   "file_extension": ".py",
   "mimetype": "text/x-python",
   "name": "python",
   "nbconvert_exporter": "python",
   "pygments_lexer": "ipython3",
   "version": "3.11.3"
  }
 },
 "nbformat": 4,
 "nbformat_minor": 5
}
