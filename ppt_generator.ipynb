{
 "cells": [
  {
   "cell_type": "code",
   "execution_count": 1,
   "id": "11a38c31-6737-42fe-8e45-89e87d3cf788",
   "metadata": {},
   "outputs": [
    {
     "name": "stdout",
     "output_type": "stream",
     "text": [
      "Requirement already satisfied: python-pptx in c:\\users\\suhas.g\\appdata\\local\\programs\\python\\python311\\lib\\site-packages (0.6.23)\n",
      "Requirement already satisfied: lxml>=3.1.0 in c:\\users\\suhas.g\\appdata\\local\\programs\\python\\python311\\lib\\site-packages (from python-pptx) (4.9.2)\n",
      "Requirement already satisfied: Pillow>=3.3.2 in c:\\users\\suhas.g\\appdata\\local\\programs\\python\\python311\\lib\\site-packages (from python-pptx) (10.1.0)\n",
      "Requirement already satisfied: XlsxWriter>=0.5.7 in c:\\users\\suhas.g\\appdata\\local\\programs\\python\\python311\\lib\\site-packages (from python-pptx) (3.2.0)\n"
     ]
    }
   ],
   "source": [
    "!pip install python-pptx"
   ]
  },
  {
   "cell_type": "code",
   "execution_count": 2,
   "id": "dbb4e87d-6a57-4154-843a-e0765ddc91fa",
   "metadata": {},
   "outputs": [],
   "source": [
    "from pptx import Presentation"
   ]
  },
  {
   "cell_type": "code",
   "execution_count": 22,
   "id": "4e4cdd6d-0a16-4201-b74b-5ad474d4738d",
   "metadata": {},
   "outputs": [],
   "source": [
    "master=Presentation(\"master-template.pptx\")"
   ]
  },
  {
   "cell_type": "code",
   "execution_count": 23,
   "id": "3fba4c58-a265-4953-ae5d-8e5db8cb5095",
   "metadata": {},
   "outputs": [],
   "source": [
    "# get master layouts , get slide layouts functions\n"
   ]
  },
  {
   "cell_type": "code",
   "execution_count": 51,
   "id": "77960306-0c1a-45eb-82cb-b3d2edc25ff0",
   "metadata": {},
   "outputs": [],
   "source": [
    "def get_slide_placeholders(slide):\n",
    "    for shape in slide.placeholders:\n",
    "     print('%d %s' % (shape.placeholder_format.idx, shape.name))"
   ]
  },
  {
   "cell_type": "code",
   "execution_count": 54,
   "id": "0adb73d8-454a-4934-a7d5-8e22b71df73a",
   "metadata": {},
   "outputs": [],
   "source": [
    "def get_child_layouts(layout):\n",
    "    for i, slide_layout in enumerate(layout.slide_layouts):\n",
    "           print(f\"Layout {i}: {(slide_layout.name)}\")\n",
    "           get_slide_placeholders(slide_layout)"
   ]
  },
  {
   "cell_type": "code",
   "execution_count": 55,
   "id": "88c496d1-c172-4b85-9a4a-17fadd089304",
   "metadata": {},
   "outputs": [
    {
     "name": "stdout",
     "output_type": "stream",
     "text": [
      "New Master Layout\n",
      "Layout 0: <pptx.slide.SlideLayouts object at 0x000001984325DD50>\n",
      "Layout 0: 1_Titolo e contenuto\n",
      "Layout 1: Diapositiva titolo\n",
      "Layout 2: 3_Layout personalizzato\n",
      "Layout 3: 4_Layout personalizzato\n",
      "Layout 4: 5_Layout personalizzato\n",
      "Layout 5: 6_Layout personalizzato\n",
      "Layout 6: 7_Layout personalizzato\n",
      "Layout 7: Titolo e contenuto\n",
      "Layout 8: Layout personalizzato\n",
      "New Master Layout\n",
      "Layout 1: <pptx.slide.SlideLayouts object at 0x000001984425DB50>\n",
      "Layout 0: 1_Diapositiva titolo\n",
      "0 Segnaposto titolo 1\n",
      "1 Segnaposto testo 2\n",
      "4 Segnaposto numero diapositiva 5\n",
      "Layout 1: 2_Diapositiva titolo\n",
      "0 Segnaposto titolo 1\n",
      "1 Segnaposto testo 2\n",
      "4 Segnaposto numero diapositiva 5\n",
      "Layout 2: 4_Diapositiva titolo\n",
      "0 Segnaposto titolo 1\n",
      "13 Segnaposto testo 2\n",
      "4 Segnaposto numero diapositiva 5\n",
      "Layout 3: 5_Diapositiva titolo\n",
      "0 Segnaposto titolo 1\n",
      "13 Segnaposto testo 2\n",
      "4 Segnaposto numero diapositiva 5\n",
      "Layout 4: 3_Diapositiva titolo\n",
      "0 Segnaposto titolo 1\n",
      "4 Segnaposto numero diapositiva 5\n",
      "Layout 5: 1_Titolo e contenuto\n",
      "0 Segnaposto titolo 1\n",
      "4 Segnaposto numero diapositiva 5\n",
      "Layout 6: Layout personalizzato\n",
      "4 Segnaposto numero diapositiva 5\n",
      "New Master Layout\n",
      "Layout 2: <pptx.slide.SlideLayouts object at 0x000001984425DC10>\n",
      "Layout 0: 1_Diapositiva titolo\n",
      "0 Segnaposto titolo 1\n",
      "1 Segnaposto testo 2\n",
      "4 Segnaposto numero diapositiva 5\n",
      "Layout 1: 2_Diapositiva titolo\n",
      "0 Segnaposto titolo 1\n",
      "1 Segnaposto testo 2\n",
      "4 Segnaposto numero diapositiva 5\n",
      "Layout 2: 3_Diapositiva titolo\n",
      "0 Segnaposto titolo 1\n",
      "4 Segnaposto numero diapositiva 5\n",
      "Layout 3: Titolo e contenuto\n",
      "0 Segnaposto titolo 1\n",
      "1 Segnaposto testo 2\n",
      "4 Segnaposto numero diapositiva 5\n",
      "Layout 4: 1_Titolo e contenuto\n",
      "0 Segnaposto titolo 1\n",
      "4 Segnaposto numero diapositiva 5\n",
      "Layout 5: Layout personalizzato\n",
      "4 Segnaposto numero diapositiva 5\n",
      "New Master Layout\n",
      "Layout 3: <pptx.slide.SlideLayouts object at 0x0000019844279790>\n",
      "Layout 0: 1_Diapositiva titolo\n",
      "4 Segnaposto numero diapositiva 5\n",
      "New Master Layout\n",
      "Layout 4: <pptx.slide.SlideLayouts object at 0x0000019844278190>\n",
      "Layout 0: 1_Diapositiva titolo\n",
      "0 Segnaposto titolo 1\n",
      "1 Segnaposto testo 2\n",
      "4 Segnaposto numero diapositiva 5\n",
      "Layout 1: 2_Diapositiva titolo\n",
      "0 Segnaposto titolo 1\n",
      "1 Segnaposto testo 2\n",
      "4 Segnaposto numero diapositiva 5\n",
      "Layout 2: 3_Diapositiva titolo\n",
      "0 Segnaposto titolo 1\n",
      "4 Segnaposto numero diapositiva 5\n",
      "Layout 3: Titolo e contenuto\n",
      "0 Segnaposto titolo 1\n",
      "1 Segnaposto testo 2\n",
      "4 Segnaposto numero diapositiva 5\n",
      "Layout 4: 1_Titolo e contenuto\n",
      "0 Segnaposto titolo 1\n",
      "4 Segnaposto numero diapositiva 5\n",
      "Layout 5: Layout personalizzato\n",
      "4 Segnaposto numero diapositiva 5\n",
      "New Master Layout\n",
      "Layout 5: <pptx.slide.SlideLayouts object at 0x0000019844278C50>\n",
      "Layout 0: Layout personalizzato\n",
      "0 Titolo 1\n",
      "New Master Layout\n",
      "Layout 6: <pptx.slide.SlideLayouts object at 0x000001984324DC10>\n",
      "Layout 0: Layout personalizzato\n",
      "0 Titolo 1\n",
      "4 Segnaposto numero diapositiva 5\n",
      "New Master Layout\n",
      "Layout 7: <pptx.slide.SlideLayouts object at 0x000001984324E650>\n",
      "Layout 0: 1_Diapositiva titolo\n",
      "0 Segnaposto titolo 1\n",
      "1 Segnaposto testo 2\n",
      "4 Segnaposto numero diapositiva 5\n",
      "Layout 1: 2_Diapositiva titolo\n",
      "0 Segnaposto titolo 1\n",
      "1 Segnaposto testo 2\n",
      "4 Segnaposto numero diapositiva 5\n",
      "Layout 2: 3_Diapositiva titolo\n",
      "0 Segnaposto titolo 1\n",
      "4 Segnaposto numero diapositiva 5\n",
      "Layout 3: Titolo e contenuto\n",
      "0 Segnaposto titolo 1\n",
      "1 Segnaposto testo 2\n",
      "4 Segnaposto numero diapositiva 5\n",
      "Layout 4: 1_Titolo e contenuto\n",
      "0 Segnaposto titolo 1\n",
      "4 Segnaposto numero diapositiva 5\n",
      "New Master Layout\n",
      "Layout 8: <pptx.slide.SlideLayouts object at 0x000001984427AC50>\n",
      "Layout 0: 1_Diapositiva titolo\n",
      "0 Segnaposto titolo 1\n",
      "1 Segnaposto testo 2\n",
      "4 Segnaposto numero diapositiva 5\n",
      "Layout 1: 2_Diapositiva titolo\n",
      "0 Segnaposto titolo 1\n",
      "1 Segnaposto testo 2\n",
      "4 Segnaposto numero diapositiva 5\n",
      "Layout 2: 3_Diapositiva titolo\n",
      "0 Segnaposto titolo 1\n",
      "4 Segnaposto numero diapositiva 5\n",
      "New Master Layout\n",
      "Layout 9: <pptx.slide.SlideLayouts object at 0x000001984427A6D0>\n",
      "Layout 0: Diapositiva titolo\n",
      "0 Segnaposto titolo 4\n",
      "4 Segnaposto numero diapositiva 5\n"
     ]
    }
   ],
   "source": [
    "def get_master_layout(master):\n",
    "    for i, layout in enumerate(master.slide_masters):\n",
    "      print(\"New Master Layout\")\n",
    "      print(f\"Layout {i}: {(layout.slide_layouts)}\")\n",
    "      get_child_layouts(layout)\n",
    "\n",
    "get_master_layout(master)\n",
    "    "
   ]
  },
  {
   "cell_type": "code",
   "execution_count": 83,
   "id": "23379ef5-5b10-4a79-9d1a-8e377700d127",
   "metadata": {},
   "outputs": [],
   "source": [
    "# get all the names of the slide_layout names in the translated version or get a map of it.\n",
    "\n",
    "# store the id's of the layout in key-value pair\n",
    "# slide_layout={\n",
    "# \"type\":\"index\",\n",
    "# \"type\":\"index\"\n",
    "# }\n",
    "# Getting name of the slide is not happening need to give it manually"
   ]
  },
  {
   "cell_type": "code",
   "execution_count": 84,
   "id": "f1f4650a-70a3-4b94-b229-4cca5cc192f3",
   "metadata": {},
   "outputs": [
    {
     "data": {
      "text/plain": [
       "'\\nJson Structure for the PPT\\nppt_structure=\\n{\\n}\\n\\n'"
      ]
     },
     "execution_count": 84,
     "metadata": {},
     "output_type": "execute_result"
    }
   ],
   "source": [
    "'''\n",
    "Json Structure for the PPT\n",
    "ppt_structure=\n",
    "[\n",
    "{\n",
    "slide_layout_1:\n",
    "{\n",
    "}\n",
    "\n",
    "}\n",
    "\n",
    "]\n",
    "\n",
    "'''"
   ]
  },
  {
   "cell_type": "code",
   "execution_count": 85,
   "id": "5ac52639-ee2f-43a3-9801-6a7a66f41756",
   "metadata": {},
   "outputs": [
    {
     "name": "stdout",
     "output_type": "stream",
     "text": [
      "New Master Layout\n",
      "Layout 0: <pptx.slide.SlideMaster object at 0x0000019844233F90>\n",
      "New Master Layout\n",
      "Layout 1: <pptx.slide.SlideMaster object at 0x0000019842F11950>\n",
      "New Master Layout\n",
      "Layout 2: <pptx.slide.SlideMaster object at 0x000001984425DB10>\n",
      "New Master Layout\n",
      "Layout 3: <pptx.slide.SlideMaster object at 0x000001984425E090>\n",
      "New Master Layout\n",
      "Layout 4: <pptx.slide.SlideMaster object at 0x0000019844279A90>\n",
      "New Master Layout\n",
      "Layout 5: <pptx.slide.SlideMaster object at 0x0000019844278050>\n",
      "New Master Layout\n",
      "Layout 6: <pptx.slide.SlideMaster object at 0x0000019844279ED0>\n",
      "New Master Layout\n",
      "Layout 7: <pptx.slide.SlideMaster object at 0x0000019844279C10>\n",
      "New Master Layout\n",
      "Layout 8: <pptx.slide.SlideMaster object at 0x00000198442783D0>\n",
      "New Master Layout\n",
      "Layout 9: <pptx.slide.SlideMaster object at 0x000001984427A4D0>\n"
     ]
    }
   ],
   "source": [
    "def get_master_layout(master):\n",
    "    for i, layout in enumerate(master.slide_masters):\n",
    "      print(\"New Master Layout\")\n",
    "      print(f\"Layout {i}: {(layout)}\")\n",
    "\n",
    "get_master_layout(master)"
   ]
  },
  {
   "cell_type": "code",
   "execution_count": 82,
   "id": "a850c317-8838-446b-900e-0217bbd25858",
   "metadata": {},
   "outputs": [
    {
     "name": "stdout",
     "output_type": "stream",
     "text": [
      "<p:sldMasterIdLst xmlns:p=\"http://schemas.openxmlformats.org/presentationml/2006/main\" xmlns:a=\"http://schemas.openxmlformats.org/drawingml/2006/main\" xmlns:r=\"http://schemas.openxmlformats.org/officeDocument/2006/relationships\">\n",
      "  <p:sldMasterId id=\"2147483648\" r:id=\"rId4\"/>\n",
      "  <p:sldMasterId id=\"2147483675\" r:id=\"rId5\"/>\n",
      "  <p:sldMasterId id=\"2147483723\" r:id=\"rId6\"/>\n",
      "  <p:sldMasterId id=\"2147483763\" r:id=\"rId7\"/>\n",
      "  <p:sldMasterId id=\"2147483730\" r:id=\"rId8\"/>\n",
      "  <p:sldMasterId id=\"2147483759\" r:id=\"rId9\"/>\n",
      "  <p:sldMasterId id=\"2147483765\" r:id=\"rId10\"/>\n",
      "  <p:sldMasterId id=\"2147483737\" r:id=\"rId11\"/>\n",
      "  <p:sldMasterId id=\"2147483749\" r:id=\"rId12\"/>\n",
      "  <p:sldMasterId id=\"2147483660\" r:id=\"rId13\"/>\n",
      "</p:sldMasterIdLst>\n",
      "\n"
     ]
    }
   ],
   "source": [
    "print(master.slide_masters.element.xml)"
   ]
  },
  {
   "cell_type": "code",
   "execution_count": 88,
   "id": "8fabc2b7-829e-4708-a1ff-d23245e1de3f",
   "metadata": {},
   "outputs": [
    {
     "data": {
      "text/plain": [
       "{'layouts': [{'layout_id': 1,\n",
       "   'slides': [{'slide_name': 'slide_1',\n",
       "     'placeholders': {'placeholder_type_1': 'index_1',\n",
       "      'placeholder_type_2': 'index_2'}},\n",
       "    {'slide_name': 'slide_2',\n",
       "     'placeholders': {'placeholder_type_1': 'index_1',\n",
       "      'placeholder_type_2': 'index_2'}}]},\n",
       "  {'layout_id': 2,\n",
       "   'slides': [{'slide_name': 'slide_1',\n",
       "     'placeholders': {'placeholder_type_1': 'index_1',\n",
       "      'placeholder_type_2': 'index_2'}},\n",
       "    {'slide_name': 'slide_2',\n",
       "     'placeholders': {'placeholder_type_1': 'index_1',\n",
       "      'placeholder_type_2': 'index_2'}}]}]}"
      ]
     },
     "execution_count": 88,
     "metadata": {},
     "output_type": "execute_result"
    }
   ],
   "source": [
    "{\n",
    "  \"layouts\": [\n",
    "    {\n",
    "      \"layout_id\": 1,\n",
    "      \"slides\": [\n",
    "        {\n",
    "          \"slide_name\": \"slide_1\",\n",
    "          \"placeholders\": {\n",
    "            \"placeholder_type_1\": \"index_1\",\n",
    "            \"placeholder_type_2\": \"index_2\"\n",
    "          }\n",
    "        },\n",
    "        {\n",
    "          \"slide_name\": \"slide_2\",\n",
    "          \"placeholders\": {\n",
    "            \"placeholder_type_1\": \"index_1\",\n",
    "            \"placeholder_type_2\": \"index_2\"\n",
    "          }\n",
    "        }\n",
    "      ]\n",
    "    },\n",
    "    {\n",
    "      \"layout_id\": 2,\n",
    "      \"slides\": [\n",
    "        {\n",
    "          \"slide_name\": \"slide_1\",\n",
    "          \"placeholders\": {\n",
    "            \"placeholder_type_1\": \"index_1\",\n",
    "            \"placeholder_type_2\": \"index_2\"\n",
    "          }\n",
    "        },\n",
    "        {\n",
    "          \"slide_name\": \"slide_2\",\n",
    "          \"placeholders\": {\n",
    "            \"placeholder_type_1\": \"index_1\",\n",
    "            \"placeholder_type_2\": \"index_2\"\n",
    "          }\n",
    "        }\n",
    "      ]\n",
    "    }\n",
    "  ]\n",
    "}\n"
   ]
  },
  {
   "cell_type": "code",
   "execution_count": null,
   "id": "76a65026-d513-4be1-bdde-3d0aabaa58a8",
   "metadata": {},
   "outputs": [],
   "source": []
  }
 ],
 "metadata": {
  "kernelspec": {
   "display_name": "Python 3 (ipykernel)",
   "language": "python",
   "name": "python3"
  },
  "language_info": {
   "codemirror_mode": {
    "name": "ipython",
    "version": 3
   },
   "file_extension": ".py",
   "mimetype": "text/x-python",
   "name": "python",
   "nbconvert_exporter": "python",
   "pygments_lexer": "ipython3",
   "version": "3.11.3"
  }
 },
 "nbformat": 4,
 "nbformat_minor": 5
}
